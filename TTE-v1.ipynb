{
 "cells": [
  {
   "cell_type": "markdown",
   "id": "fbd00173-c645-42fb-b2c5-3f7bcebba852",
   "metadata": {},
   "source": [
    "# Converted Data Censored CSV"
   ]
  },
  {
   "cell_type": "code",
   "execution_count": 21,
   "id": "730a0c27-3c7c-4c46-9d81-7866c8fdf3a0",
   "metadata": {},
   "outputs": [
    {
     "data": {
      "text/html": [
       "<div>\n",
       "<style scoped>\n",
       "    .dataframe tbody tr th:only-of-type {\n",
       "        vertical-align: middle;\n",
       "    }\n",
       "\n",
       "    .dataframe tbody tr th {\n",
       "        vertical-align: top;\n",
       "    }\n",
       "\n",
       "    .dataframe thead th {\n",
       "        text-align: right;\n",
       "    }\n",
       "</style>\n",
       "<table border=\"1\" class=\"dataframe\">\n",
       "  <thead>\n",
       "    <tr style=\"text-align: right;\">\n",
       "      <th></th>\n",
       "      <th>id</th>\n",
       "      <th>period</th>\n",
       "      <th>treatment</th>\n",
       "      <th>x1</th>\n",
       "      <th>x2</th>\n",
       "      <th>x3</th>\n",
       "      <th>x4</th>\n",
       "      <th>age</th>\n",
       "      <th>age_s</th>\n",
       "      <th>outcome</th>\n",
       "      <th>censored</th>\n",
       "      <th>eligible</th>\n",
       "    </tr>\n",
       "  </thead>\n",
       "  <tbody>\n",
       "    <tr>\n",
       "      <th>0</th>\n",
       "      <td>1</td>\n",
       "      <td>0</td>\n",
       "      <td>1</td>\n",
       "      <td>1</td>\n",
       "      <td>1.146148</td>\n",
       "      <td>0</td>\n",
       "      <td>0.734203</td>\n",
       "      <td>36</td>\n",
       "      <td>0.083333</td>\n",
       "      <td>0</td>\n",
       "      <td>0</td>\n",
       "      <td>1</td>\n",
       "    </tr>\n",
       "    <tr>\n",
       "      <th>1</th>\n",
       "      <td>1</td>\n",
       "      <td>1</td>\n",
       "      <td>1</td>\n",
       "      <td>1</td>\n",
       "      <td>0.002200</td>\n",
       "      <td>0</td>\n",
       "      <td>0.734203</td>\n",
       "      <td>37</td>\n",
       "      <td>0.166667</td>\n",
       "      <td>0</td>\n",
       "      <td>0</td>\n",
       "      <td>0</td>\n",
       "    </tr>\n",
       "    <tr>\n",
       "      <th>2</th>\n",
       "      <td>1</td>\n",
       "      <td>2</td>\n",
       "      <td>1</td>\n",
       "      <td>0</td>\n",
       "      <td>-0.481762</td>\n",
       "      <td>0</td>\n",
       "      <td>0.734203</td>\n",
       "      <td>38</td>\n",
       "      <td>0.250000</td>\n",
       "      <td>0</td>\n",
       "      <td>0</td>\n",
       "      <td>0</td>\n",
       "    </tr>\n",
       "    <tr>\n",
       "      <th>3</th>\n",
       "      <td>1</td>\n",
       "      <td>3</td>\n",
       "      <td>1</td>\n",
       "      <td>0</td>\n",
       "      <td>0.007872</td>\n",
       "      <td>0</td>\n",
       "      <td>0.734203</td>\n",
       "      <td>39</td>\n",
       "      <td>0.333333</td>\n",
       "      <td>0</td>\n",
       "      <td>0</td>\n",
       "      <td>0</td>\n",
       "    </tr>\n",
       "    <tr>\n",
       "      <th>4</th>\n",
       "      <td>1</td>\n",
       "      <td>4</td>\n",
       "      <td>1</td>\n",
       "      <td>1</td>\n",
       "      <td>0.216054</td>\n",
       "      <td>0</td>\n",
       "      <td>0.734203</td>\n",
       "      <td>40</td>\n",
       "      <td>0.416667</td>\n",
       "      <td>0</td>\n",
       "      <td>0</td>\n",
       "      <td>0</td>\n",
       "    </tr>\n",
       "  </tbody>\n",
       "</table>\n",
       "</div>"
      ],
      "text/plain": [
       "   id  period  treatment  x1        x2  x3        x4  age     age_s  outcome  \\\n",
       "0   1       0          1   1  1.146148   0  0.734203   36  0.083333        0   \n",
       "1   1       1          1   1  0.002200   0  0.734203   37  0.166667        0   \n",
       "2   1       2          1   0 -0.481762   0  0.734203   38  0.250000        0   \n",
       "3   1       3          1   0  0.007872   0  0.734203   39  0.333333        0   \n",
       "4   1       4          1   1  0.216054   0  0.734203   40  0.416667        0   \n",
       "\n",
       "   censored  eligible  \n",
       "0         0         1  \n",
       "1         0         0  \n",
       "2         0         0  \n",
       "3         0         0  \n",
       "4         0         0  "
      ]
     },
     "execution_count": 21,
     "metadata": {},
     "output_type": "execute_result"
    }
   ],
   "source": [
    "import pandas as pd\n",
    "\n",
    "df = pd.read_csv(\"csv/data_censored.csv\")  # Load dataset\n",
    "df.head()  # Check the first few rows"
   ]
  },
  {
   "cell_type": "code",
   "execution_count": 22,
   "id": "994df812-267c-4539-b65b-03f2497b036f",
   "metadata": {},
   "outputs": [],
   "source": [
    "def define_estimand(data, estimand):\n",
    "    if estimand == \"PP\":\n",
    "        # Per-Protocol: Filter data where eligible == 1\n",
    "        return data[data['eligible'] == 1]\n",
    "    elif estimand == \"ITT\":\n",
    "        # Intention-to-Treat: Use all data\n",
    "        return data\n",
    "    else:\n",
    "        raise ValueError(\"Estimand must be 'PP' or 'ITT'\")\n",
    "\n",
    "# Example usage\n",
    "trial_pp = define_estimand(df, \"PP\")\n",
    "trial_itt = define_estimand(df, \"ITT\")"
   ]
  },
  {
   "cell_type": "code",
   "execution_count": 23,
   "id": "cde1cf06-2f01-49ff-8d3b-5f75ee8dc70a",
   "metadata": {},
   "outputs": [],
   "source": [
    "def prepare_data(data, id_col, period_col, treatment_col, outcome_col, eligible_col):\n",
    "    return data[[id_col, period_col, treatment_col, outcome_col, eligible_col]]\n",
    "\n",
    "# Example usage\n",
    "trial_pp_prepared = prepare_data(trial_pp, 'id', 'period', 'treatment', 'outcome', 'eligible')\n",
    "trial_itt_prepared = prepare_data(trial_itt, 'id', 'period', 'treatment', 'outcome', 'eligible')"
   ]
  },
  {
   "cell_type": "code",
   "execution_count": 25,
   "id": "a09abeeb-45f3-40cf-8642-d76fef8e5ccf",
   "metadata": {},
   "outputs": [
    {
     "ename": "NameError",
     "evalue": "name 'numerator_formula' is not defined",
     "output_type": "error",
     "traceback": [
      "\u001b[0;31m---------------------------------------------------------------------------\u001b[0m",
      "\u001b[0;31mNameError\u001b[0m                                 Traceback (most recent call last)",
      "Cell \u001b[0;32mIn[25], line 17\u001b[0m\n\u001b[1;32m     14\u001b[0m     \u001b[38;5;28;01mreturn\u001b[39;00m weights\n\u001b[1;32m     16\u001b[0m \u001b[38;5;66;03m# Example usage for Per-Protocol\u001b[39;00m\n\u001b[0;32m---> 17\u001b[0m trial_pp\u001b[38;5;241m.\u001b[39mloc[:, \u001b[38;5;124m'\u001b[39m\u001b[38;5;124mweights\u001b[39m\u001b[38;5;124m'\u001b[39m] \u001b[38;5;241m=\u001b[39m calculate_weights(trial_pp, \u001b[43mnumerator_formula\u001b[49m, denominator_formula, \u001b[38;5;124m'\u001b[39m\u001b[38;5;124mcensored\u001b[39m\u001b[38;5;124m'\u001b[39m)\n\u001b[1;32m     19\u001b[0m \u001b[38;5;66;03m# Example usage for Intention-to-Treat\u001b[39;00m\n\u001b[1;32m     20\u001b[0m trial_itt\u001b[38;5;241m.\u001b[39mloc[:, \u001b[38;5;124m'\u001b[39m\u001b[38;5;124mweights\u001b[39m\u001b[38;5;124m'\u001b[39m] \u001b[38;5;241m=\u001b[39m calculate_weights(trial_itt, numerator_formula, denominator_formula, \u001b[38;5;124m'\u001b[39m\u001b[38;5;124mcensored\u001b[39m\u001b[38;5;124m'\u001b[39m)\n",
      "\u001b[0;31mNameError\u001b[0m: name 'numerator_formula' is not defined"
     ]
    }
   ],
   "source": [
    "import statsmodels.api as sm\n",
    "\n",
    "def calculate_weights(data, numerator_formula, denominator_formula, censor_event_col):\n",
    "    # Fit numerator model\n",
    "    numerator_model = sm.Logit(data[censor_event_col], sm.add_constant(data[numerator_formula])).fit(disp=0)\n",
    "    numerator_probs = numerator_model.predict(sm.add_constant(data[numerator_formula]))\n",
    "    \n",
    "    # Fit denominator model\n",
    "    denominator_model = sm.Logit(data[censor_event_col], sm.add_constant(data[denominator_formula])).fit(disp=0)\n",
    "    denominator_probs = denominator_model.predict(sm.add_constant(data[denominator_formula]))\n",
    "    \n",
    "    # Calculate weights\n",
    "    weights = (1 - numerator_probs) / (1 - denominator_probs)\n",
    "    return weights\n",
    "\n",
    "# Example usage for Per-Protocol\n",
    "trial_pp.loc[:, 'weights'] = calculate_weights(trial_pp, numerator_formula, denominator_formula, 'censored')\n",
    "\n",
    "# Example usage for Intention-to-Treat\n",
    "trial_itt.loc[:, 'weights'] = calculate_weights(trial_itt, numerator_formula, denominator_formula, 'censored')"
   ]
  },
  {
   "cell_type": "code",
   "execution_count": 5,
   "id": "7423524a-d853-40bc-861a-08c122fb3375",
   "metadata": {},
   "outputs": [],
   "source": [
    "X_switch = data_censored[[\"age\", \"x1\", \"x3\"]]\n",
    "y_switch = data_censored[\"treatment\"]\n",
    "\n",
    "X_censor = data_censored[[\"x2\", \"x1\"]]\n",
    "y_censor = data_censored[\"censored\"]"
   ]
  },
  {
   "cell_type": "code",
   "execution_count": 6,
   "id": "05583b5c-7907-4279-8c2a-d6d3c95f9d6d",
   "metadata": {},
   "outputs": [],
   "source": [
    "scaler = StandardScaler()\n",
    "X_switch_scaled = scaler.fit_transform(X_switch)\n",
    "X_censor_scaled = scaler.fit_transform(X_censor)"
   ]
  },
  {
   "cell_type": "code",
   "execution_count": 7,
   "id": "effc6eda-c096-4ae3-8598-1019cc8cdd57",
   "metadata": {},
   "outputs": [],
   "source": [
    "switch_model = fit_logistic_model(X_switch_scaled, y_switch, os.path.join(trial_pp_dir, \"switch_model.pkl\"))\n",
    "censor_model = fit_logistic_model(X_censor_scaled, y_censor, os.path.join(trial_pp_dir, \"censor_model.pkl\"))"
   ]
  },
  {
   "cell_type": "code",
   "execution_count": 8,
   "id": "2e110164-3d11-4799-9707-25587817535e",
   "metadata": {},
   "outputs": [],
   "source": [
    "switch_probs = switch_model.predict_proba(X_switch_scaled)[:, 1]\n",
    "censor_probs = censor_model.predict_proba(X_censor_scaled)[:, 1]"
   ]
  },
  {
   "cell_type": "code",
   "execution_count": 9,
   "id": "0a53ee4b-f54e-4780-8dab-de25f6d1114d",
   "metadata": {},
   "outputs": [],
   "source": [
    "data_censored[\"weight\"] = 1 / (np.maximum(switch_probs, 1e-9))\n",
    "data_censored[\"censor_weight\"] = 1 / (np.maximum(censor_probs, 1e-9))"
   ]
  },
  {
   "cell_type": "code",
   "execution_count": 10,
   "id": "30959fb0-03f2-4227-9870-1957573768cc",
   "metadata": {},
   "outputs": [
    {
     "data": {
      "text/plain": [
       "<Axes: xlabel='timeline'>"
      ]
     },
     "execution_count": 10,
     "metadata": {},
     "output_type": "execute_result"
    },
    {
     "data": {
      "image/png": "[encoded data removed]",
      "text/plain": [
       "<Figure size 640x480 with 1 Axes>"
      ]
     },
     "metadata": {},
     "output_type": "display_data"
    }
   ],
   "source": [
    "kf = KaplanMeierFitter()\n",
    "kf.fit(data_censored[\"period\"], event_observed=data_censored[\"outcome\"])\n",
    "kf.plot()"
   ]
  },
  {
   "cell_type": "code",
   "execution_count": 11,
   "id": "bd07792d-341d-4203-a13b-2a617084d103",
   "metadata": {},
   "outputs": [],
   "source": [
    "cph = CoxPHFitter()"
   ]
  },
  {
   "cell_type": "code",
   "execution_count": 20,
   "id": "4b13e8fd-88b5-47f0-8161-3fde48c90d02",
   "metadata": {},
   "outputs": [],
   "source": [
    "X_survival = data_censored.drop(columns=[\"weight\", \"censor_weight\"]).select_dtypes(include=[np.number]).dropna()\n",
    "correlation_matrix = X_survival.corr().abs()\n",
    "high_corr_vars = [column for column in correlation_matrix.columns if any(correlation_matrix[column] > 0.9)]\n",
    "data_censored = data_censored.drop(columns=high_corr_vars, errors='ignore')"
   ]
  }
 ],
 "metadata": {
  "kernelspec": {
   "display_name": "Python 3 (ipykernel)",
   "language": "python",
   "name": "python3"
  },
  "language_info": {
   "codemirror_mode": {
    "name": "ipython",
    "version": 3
   },
   "file_extension": ".py",
   "mimetype": "text/x-python",
   "name": "python",
   "nbconvert_exporter": "python",
   "pygments_lexer": "ipython3",
   "version": "3.12.3"
  }
 },
 "nbformat": 4,
 "nbformat_minor": 5
}
