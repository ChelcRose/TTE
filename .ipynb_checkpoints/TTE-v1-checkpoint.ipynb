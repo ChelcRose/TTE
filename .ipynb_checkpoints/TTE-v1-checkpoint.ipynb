{
 "cells": [
  {
   "cell_type": "markdown",
   "id": "fbd00173-c645-42fb-b2c5-3f7bcebba852",
   "metadata": {},
   "source": [
    "# Hatdog"
   ]
  },
  {
   "cell_type": "markdown",
   "id": "95bfbf02-7fe2-461a-bacd-17febed2dd9d",
   "metadata": {},
   "source": [
    "## Hello She'll See"
   ]
  },
  {
   "cell_type": "markdown",
   "id": "287322e9-349e-44b9-94f2-6f845c4aa580",
   "metadata": {},
   "source": [
    "### I Am Smyle"
   ]
  },
  {
   "cell_type": "markdown",
   "id": "3503c125-7213-44ac-8790-b6a688631ab3",
   "metadata": {},
   "source": [
    "Lubot"
   ]
  }
 ],
 "metadata": {
  "kernelspec": {
   "display_name": "Python 3 (ipykernel)",
   "language": "python",
   "name": "python3"
  },
  "language_info": {
   "codemirror_mode": {
    "name": "ipython",
    "version": 3
   },
   "file_extension": ".py",
   "mimetype": "text/x-python",
   "name": "python",
   "nbconvert_exporter": "python",
   "pygments_lexer": "ipython3",
   "version": "3.12.3"
  }
 },
 "nbformat": 4,
 "nbformat_minor": 5
}
