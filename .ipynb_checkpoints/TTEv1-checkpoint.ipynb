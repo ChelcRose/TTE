{
 "cells": [
  {
   "cell_type": "markdown",
   "id": "fbd00173-c645-42fb-b2c5-3f7bcebba852",
   "metadata": {},
   "source": [
    "# Hatdog"
   ]
  },
  {
   "cell_type": "markdown",
   "id": "95bfbf02-7fe2-461a-bacd-17febed2dd9d",
   "metadata": {},
   "source": [
    "## Hello She'll See"
   ]
  },
  {
   "cell_type": "markdown",
   "id": "287322e9-349e-44b9-94f2-6f845c4aa580",
   "metadata": {},
   "source": [
    "### I Am Smyle"
   ]
  },
  {
   "cell_type": "code",
   "execution_count": null,
   "id": "08afb98e-0f4e-4c3b-9b2b-2cf913c2289d",
   "metadata": {},
   "outputs": [],
   "source": []
  }
 ],
 "metadata": {
  "kernelspec": {
   "display_name": "Python [conda env:base] *",
   "language": "python",
   "name": "conda-base-py"
  },
  "language_info": {
   "codemirror_mode": {
    "name": "ipython",
    "version": 3
   },
   "file_extension": ".py",
   "mimetype": "text/x-python",
   "name": "python",
   "nbconvert_exporter": "python",
   "pygments_lexer": "ipython3",
   "version": "3.12.7"
  }
 },
 "nbformat": 4,
 "nbformat_minor": 5
}
